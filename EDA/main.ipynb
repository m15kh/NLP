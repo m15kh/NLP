{
 "cells": [
  {
   "cell_type": "code",
   "execution_count": 81,
   "id": "58bdb0d5",
   "metadata": {},
   "outputs": [],
   "source": [
    "from pprint import pprint\n",
    "from EDA_utils import load_hf_dataset, get_sample"
   ]
  },
  {
   "cell_type": "code",
   "execution_count": 80,
   "id": "c97a01c9",
   "metadata": {},
   "outputs": [
    {
     "name": "stdout",
     "output_type": "stream",
     "text": [
      "🔹 RAM used for loading dataset: 134.38 MB\n"
     ]
    }
   ],
   "source": [
    "dataset = load_hf_dataset(\"roneneldan/TinyStories\")"
   ]
  },
  {
   "cell_type": "code",
   "execution_count": 83,
   "id": "1e198690",
   "metadata": {},
   "outputs": [
    {
     "name": "stdout",
     "output_type": "stream",
     "text": [
      "('Once there was a little girl named Mary. Mary had a big brother named Sam. '\n",
      " 'Sam and Mary liked to have fun together.\\n'\n",
      " '\\n'\n",
      " 'One day, Sam and Mary were playing outside in the grass. The grass was green '\n",
      " \"and the sky was white. Sam was being silly and bit Mary's hand. Mary said, \"\n",
      " 'â€œStop that!â€\\n'\n",
      " '\\n'\n",
      " \"Then Sam started to tease Mary. He laughed and said, â€œI'm being silly. \"\n",
      " \"Wanna race?â€ Mary was very competitive and said, â€œYes! Let's go!â€\\n\"\n",
      " '\\n'\n",
      " 'The two raced around the yard. They ran so fast! In the end Mary won the '\n",
      " \"race. Sam said, â€œYou win! You're so fast!â€ Mary was proud of her speed.\")\n"
     ]
    }
   ],
   "source": [
    "sample = get_sample(dataset)\n",
    "pprint(sample)"
   ]
  },
  {
   "cell_type": "code",
   "execution_count": null,
   "id": "f7c8b8b1",
   "metadata": {},
   "outputs": [],
   "source": [
    "V"
   ]
  }
 ],
 "metadata": {
  "kernelspec": {
   "display_name": "llm",
   "language": "python",
   "name": "python3"
  },
  "language_info": {
   "codemirror_mode": {
    "name": "ipython",
    "version": 3
   },
   "file_extension": ".py",
   "mimetype": "text/x-python",
   "name": "python",
   "nbconvert_exporter": "python",
   "pygments_lexer": "ipython3",
   "version": "3.12.9"
  }
 },
 "nbformat": 4,
 "nbformat_minor": 5
}
