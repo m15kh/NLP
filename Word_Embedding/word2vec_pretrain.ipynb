{
 "cells": [
  {
   "cell_type": "code",
   "execution_count": null,
   "id": "f7a15bc5",
   "metadata": {},
   "outputs": [],
   "source": [
    "import gensim.downloader as api\n",
    "#this is pretrained word2vec model\n",
    "# it is a large model, so it may take a while to download\n",
    "word2vec = api.load(\"word2vec-google-news-300\")\n",
    "# Alternatives to the Word2Vec model (`word2vec-google-news-300`) include:\n",
    "# 1. GloVe embeddings (e.g., `glove-wiki-gigaword-100`, `glove-twitter-200`).\n",
    "# 2. FastText embeddings (e.g., `fasttext-wiki-news-subwords-300`).\n",
    "# 3. ConceptNet embeddings (`conceptnet-numberbatch-17-06-300`).\n",
    "# 4. Contextual embeddings like ELMo and BERT (available via other libraries)."
   ]
  },
  {
   "cell_type": "code",
   "execution_count": 23,
   "id": "bf74826c",
   "metadata": {},
   "outputs": [
    {
     "name": "stdout",
     "output_type": "stream",
     "text": [
      "shape of word2vec vectors: (3000000, 300)\n",
      "number of words in word2vec: 3000000\n",
      "similarity between 'KING' and 'QUEEN': 0.53371984\n"
     ]
    }
   ],
   "source": [
    "print(\"shape of word2vec vectors:\", word2vec.vectors.shape)\n",
    "print(\"number of words in word2vec:\", len(word2vec.key_to_index))\n",
    "print(\"similarity between 'KING' and 'QUEEN':\", word2vec.similarity('KING', 'QUEEN'))"
   ]
  },
  {
   "cell_type": "code",
   "execution_count": null,
   "id": "73303c4e",
   "metadata": {},
   "outputs": [
    {
     "name": "stdout",
     "output_type": "stream",
     "text": [
      "Most similar word: [('queen', 0.7118193507194519), ('monarch', 0.6189674139022827), ('princess', 0.5902431011199951), ('crown_prince', 0.5499460697174072), ('prince', 0.5377321839332581)]\n"
     ]
    }
   ],
   "source": [
    "positive_words = ['woman', 'king']\n",
    "negative_words = ['man']\n",
    "\n",
    "result = word2vec.most_similar(positive=positive_words, negative=negative_words, topn=5)\n",
    "print(\"Most similar word:\", result)"
   ]
  }
 ],
 "metadata": {
  "kernelspec": {
   "display_name": "llm",
   "language": "python",
   "name": "python3"
  },
  "language_info": {
   "codemirror_mode": {
    "name": "ipython",
    "version": 3
   },
   "file_extension": ".py",
   "mimetype": "text/x-python",
   "name": "python",
   "nbconvert_exporter": "python",
   "pygments_lexer": "ipython3",
   "version": "3.12.8"
  }
 },
 "nbformat": 4,
 "nbformat_minor": 5
}
