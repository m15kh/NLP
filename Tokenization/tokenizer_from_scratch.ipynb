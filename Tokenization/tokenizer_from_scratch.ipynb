{
 "cells": [
  {
   "cell_type": "code",
   "execution_count": 1,
   "id": "b8e2d6f6",
   "metadata": {},
   "outputs": [
    {
     "name": "stderr",
     "output_type": "stream",
     "text": [
      "/home/ubuntu/anaconda3/envs/llm/lib/python3.12/site-packages/tqdm/auto.py:21: TqdmWarning: IProgress not found. Please update jupyter and ipywidgets. See https://ipywidgets.readthedocs.io/en/stable/user_install.html\n",
      "  from .autonotebook import tqdm as notebook_tqdm\n"
     ]
    }
   ],
   "source": [
    "import tiktoken\n",
    "import numpy\n",
    "import sys\n",
    "import os\n",
    "from tqdm import tqdm \n",
    "import numpy as np\n",
    "# Use the current working directory instead of __file__\n",
    "sys.path.append(os.path.abspath(os.path.join(os.getcwd(), '../')))\n",
    "from EDA import EDA_utils as EDA\n",
    "import pickle\n"
   ]
  },
  {
   "cell_type": "code",
   "execution_count": 2,
   "id": "b8e2d6f6",
   "metadata": {},
   "outputs": [
    {
     "name": "stdout",
     "output_type": "stream",
     "text": [
      "🔹 RAM used for loading dataset: 154.86 MB\n"
     ]
    }
   ],
   "source": [
    "dataset = EDA.load_hf_dataset(\"roneneldan/TinyStories\")\n",
    "tokenizer = tiktoken.get_encoding(\"gpt2\") # Load tiktoken encoder (GPT-3.5/GPT-4 encoding)"
   ]
  },
  {
   "cell_type": "code",
   "execution_count": 4,
   "id": "89a3f150",
   "metadata": {},
   "outputs": [
    {
     "name": "stderr",
     "output_type": "stream",
     "text": [
      "Tokenizing Train Set: 100%|██████████| 2119719/2119719 [02:29<00:00, 14159.12it/s]\n"
     ]
    },
    {
     "name": "stdout",
     "output_type": "stream",
     "text": [
      "\n",
      "🔹 Total tokens in train dataset: 471,872,517\n",
      "🔹 Estimated train token memory: 1.76 GB\n"
     ]
    }
   ],
   "source": [
    "# Tokenization {train}\n",
    "tokenized_train_samples = []\n",
    "for item in tqdm(dataset[\"train\"], desc=\"Tokenizing Train Set\"):\n",
    "    input_ids = tokenizer.encode(item[\"text\"])\n",
    "    tokenized_train_samples.append(np.array(input_ids))\n",
    "\n",
    "# Total token count and estimated memory (GB)\n",
    "total_train_tokens = sum(len(toks) for toks in tokenized_train_samples)\n",
    "bytes_per_token = 4  # int32:4 | uint16:2\n",
    "total_size_gb = total_train_tokens * bytes_per_token / (1024**3)\n",
    "\n",
    "print(f\"\\n🔹 Total tokens in train dataset: {total_train_tokens:,}\")\n",
    "print(f\"🔹 Estimated train token memory: {total_size_gb:.2f} GB\")"
   ]
  },
  {
   "cell_type": "code",
   "execution_count": 5,
   "id": "4f7f7064",
   "metadata": {},
   "outputs": [
    {
     "name": "stderr",
     "output_type": "stream",
     "text": [
      "Tokenizing Validation Set: 100%|██████████| 21990/21990 [00:01<00:00, 14535.63it/s]"
     ]
    },
    {
     "name": "stdout",
     "output_type": "stream",
     "text": [
      "\n",
      "🔹 Total tokens in validation dataset: 4,743,928\n",
      "🔹 Estimated validation token memory: 18.10 MB\n"
     ]
    },
    {
     "name": "stderr",
     "output_type": "stream",
     "text": [
      "\n"
     ]
    }
   ],
   "source": [
    "# Tokenization {validation}\n",
    "tokenized_valid_samples = []\n",
    "for item in tqdm(dataset[\"validation\"], desc=\"Tokenizing Validation Set\"):\n",
    "    input_ids = tokenizer.encode(item[\"text\"])\n",
    "    tokenized_valid_samples.append(np.array(input_ids))\n",
    "\n",
    "# Total token count and estimated memory (MB)\n",
    "total_valid_tokens = sum(len(toks) for toks in tokenized_valid_samples)\n",
    "total_size_mb = total_valid_tokens * bytes_per_token / (1024**2)\n",
    "\n",
    "print(f\"\\n🔹 Total tokens in validation dataset: {total_valid_tokens:,}\")\n",
    "print(f\"🔹 Estimated validation token memory: {total_size_mb:.2f} MB\")\n"
   ]
  },
  {
   "cell_type": "code",
   "execution_count": 6,
   "id": "0116c4d1",
   "metadata": {},
   "outputs": [],
   "source": [
    "# Save tokens as a pickle file\n",
    "with open('tokenized_train_samples.pkl', 'wb') as f:\n",
    "    pickle.dump(tokenized_train_samples, f)\n",
    "\n",
    "with open('tokenized_valid_samples.pkl', 'wb') as f:\n",
    "    pickle.dump(tokenized_valid_samples, f)"
   ]
  },
  {
   "cell_type": "code",
   "execution_count": null,
   "id": "db1a44f0",
   "metadata": {},
   "outputs": [],
   "source": [
    "import psutil\n",
    "# RAM before\n",
    "process = psutil.Process(os.getpid())\n",
    "ram_before = process.memory_info().rss  # in bytes\n",
    "\n",
    "# Load data from the pickle file\n",
    "with open('tokenized_train_samples.pkl', 'rb') as f:\n",
    "    tokenized_train_samples = pickle.load(f)\n",
    "\n",
    "with open('tokenized_valid_samples.pkl', 'rb') as f:\n",
    "    tokenized_valid_samples = pickle.load(f)\n",
    "\n",
    "# RAM after\n",
    "ram_after = process.memory_info().rss\n",
    "\n",
    "# Result\n",
    "ram_used = ram_after - ram_before\n",
    "print(f\"🔹 RAM used for loading full dataset into memory: {ram_used / (1024**3):.2f} GB\")"
   ]
  }
 ],
 "metadata": {
  "kernelspec": {
   "display_name": "llm",
   "language": "python",
   "name": "python3"
  },
  "language_info": {
   "codemirror_mode": {
    "name": "ipython",
    "version": 3
   },
   "file_extension": ".py",
   "mimetype": "text/x-python",
   "name": "python",
   "nbconvert_exporter": "python",
   "pygments_lexer": "ipython3",
   "version": "3.12.7"
  }
 },
 "nbformat": 4,
 "nbformat_minor": 5
}
