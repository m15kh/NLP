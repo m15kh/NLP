{
 "cells": [
  {
   "cell_type": "code",
   "execution_count": 32,
   "id": "b8e2d6f6",
   "metadata": {},
   "outputs": [],
   "source": [
    "import tiktoken\n",
    "import numpy\n",
    "import sys\n",
    "import os\n",
    "from tqdm import tqdm \n",
    "import numpy as np\n",
    "# Use the current working directory instead of __file__\n",
    "sys.path.append(os.path.abspath(os.path.join(os.getcwd(), '../')))\n",
    "from EDA import EDA_utils as EDA\n",
    "import pickle\n"
   ]
  },
  {
   "cell_type": "code",
   "execution_count": 26,
   "id": "b8e2d6f6",
   "metadata": {},
   "outputs": [
    {
     "name": "stdout",
     "output_type": "stream",
     "text": [
      "🔹 RAM used for loading dataset: 139.38 MB\n"
     ]
    }
   ],
   "source": [
    "dataset = EDA.load_hf_dataset(\"roneneldan/TinyStories\")\n",
    "tokenizer = tiktoken.get_encoding(\"gpt2\") # Load tiktoken encoder (GPT-3.5/GPT-4 encoding)"
   ]
  },
  {
   "cell_type": "code",
   "execution_count": 30,
   "id": "89a3f150",
   "metadata": {},
   "outputs": [
    {
     "name": "stderr",
     "output_type": "stream",
     "text": [
      "Tokenizing Train Set: 100%|██████████| 2119719/2119719 [04:21<00:00, 8093.12it/s]\n"
     ]
    },
    {
     "name": "stdout",
     "output_type": "stream",
     "text": [
      "\n",
      "🔹 Total tokens in train dataset: 471,872,517\n",
      "🔹 Estimated train token memory: 1.76 GB\n"
     ]
    }
   ],
   "source": [
    "# Tokenization {train}\n",
    "tokenized_train_samples = []\n",
    "for item in tqdm(dataset[\"train\"], desc=\"Tokenizing Train Set\"):\n",
    "    input_ids = tokenizer.encode(item[\"text\"])\n",
    "    tokenized_train_samples.append(np.array(input_ids))\n",
    "\n",
    "# Total token count and estimated memory (GB)\n",
    "total_train_tokens = sum(len(toks) for toks in tokenized_train_samples)\n",
    "bytes_per_token = 4  # int32:4 | uint16:2\n",
    "total_size_gb = total_train_tokens * bytes_per_token / (1024**3)\n",
    "\n",
    "print(f\"\\n🔹 Total tokens in train dataset: {total_train_tokens:,}\")\n",
    "print(f\"🔹 Estimated train token memory: {total_size_gb:.2f} GB\")"
   ]
  },
  {
   "cell_type": "code",
   "execution_count": 31,
   "id": "4f7f7064",
   "metadata": {},
   "outputs": [
    {
     "name": "stderr",
     "output_type": "stream",
     "text": [
      "Tokenizing Validation Set: 100%|██████████| 21990/21990 [00:02<00:00, 8256.67it/s]"
     ]
    },
    {
     "name": "stdout",
     "output_type": "stream",
     "text": [
      "\n",
      "🔹 Total tokens in validation dataset: 4,743,928\n",
      "🔹 Estimated validation token memory: 18.10 MB\n"
     ]
    },
    {
     "name": "stderr",
     "output_type": "stream",
     "text": [
      "\n"
     ]
    }
   ],
   "source": [
    "# Tokenization {validation}\n",
    "tokenized_valid_samples = []\n",
    "for item in tqdm(dataset[\"validation\"], desc=\"Tokenizing Validation Set\"):\n",
    "    input_ids = tokenizer.encode(item[\"text\"])\n",
    "    tokenized_valid_samples.append(np.array(input_ids))\n",
    "\n",
    "# Total token count and estimated memory (MB)\n",
    "total_valid_tokens = sum(len(toks) for toks in tokenized_valid_samples)\n",
    "total_size_mb = total_valid_tokens * bytes_per_token / (1024**2)\n",
    "\n",
    "print(f\"\\n🔹 Total tokens in validation dataset: {total_valid_tokens:,}\")\n",
    "print(f\"🔹 Estimated validation token memory: {total_size_mb:.2f} MB\")\n"
   ]
  },
  {
   "cell_type": "code",
   "execution_count": 33,
   "id": "0116c4d1",
   "metadata": {},
   "outputs": [
    {
     "ename": "",
     "evalue": "",
     "output_type": "error",
     "traceback": [
      "\u001b[1;31mThe Kernel crashed while executing code in the current cell or a previous cell. \n",
      "\u001b[1;31mPlease review the code in the cell(s) to identify a possible cause of the failure. \n",
      "\u001b[1;31mClick <a href='https://aka.ms/vscodeJupyterKernelCrash'>here</a> for more info. \n",
      "\u001b[1;31mView Jupyter <a href='command:jupyter.viewOutput'>log</a> for further details."
     ]
    }
   ],
   "source": [
    "# Save tokens as a pickle file\n",
    "with open('tokenized_train_samples.pkl', 'wb') as f:\n",
    "    pickle.dump(tokenized_train_samples, f)\n",
    "\n",
    "with open('tokenized_valid_samples.pkl', 'wb') as f:\n",
    "    pickle.dump(tokenized_valid_samples, f)"
   ]
  }
 ],
 "metadata": {
  "kernelspec": {
   "display_name": "llm",
   "language": "python",
   "name": "python3"
  },
  "language_info": {
   "codemirror_mode": {
    "name": "ipython",
    "version": 3
   },
   "file_extension": ".py",
   "mimetype": "text/x-python",
   "name": "python",
   "nbconvert_exporter": "python",
   "pygments_lexer": "ipython3",
   "version": "3.12.9"
  }
 },
 "nbformat": 4,
 "nbformat_minor": 5
}
