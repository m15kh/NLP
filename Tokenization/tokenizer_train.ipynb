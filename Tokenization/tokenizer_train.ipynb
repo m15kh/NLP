{
 "cells": [
  {
   "cell_type": "code",
   "execution_count": 23,
   "id": "031bbfa3",
   "metadata": {},
   "outputs": [],
   "source": [
    "ds = [\n",
    "    \"low lower case\",\n",
    "    \"UPPER UPPER CASE\",\n",
    "    \"hello world\",\n",
    "    \"HELLO WORLD\",\n",
    "    \"Hello World\",    \n",
    "]"
   ]
  },
  {
   "cell_type": "code",
   "execution_count": 24,
   "id": "86798248",
   "metadata": {},
   "outputs": [],
   "source": [
    "from tokenizers import Tokenizer, models, pre_tokenizers, trainers"
   ]
  },
  {
   "cell_type": "code",
   "execution_count": 25,
   "id": "e3f2574c",
   "metadata": {},
   "outputs": [],
   "source": [
    "tokenizers = Tokenizer(models.BPE(unk_token=\"[UNK]\"))\n"
   ]
  },
  {
   "cell_type": "code",
   "execution_count": 26,
   "id": "8d7097c8",
   "metadata": {},
   "outputs": [],
   "source": [
    "tokenizers.pre_tokenizer = pre_tokenizers.Whitespace()"
   ]
  },
  {
   "cell_type": "code",
   "execution_count": 27,
   "id": "2877f0b9",
   "metadata": {},
   "outputs": [],
   "source": [
    "trainer = trainers.BpeTrainer(\n",
    "    vocab_size = 100,\n",
    "    min_frequency =2 ,\n",
    "    special_tokens=[\"[UNK]\"]\n",
    ")"
   ]
  },
  {
   "cell_type": "code",
   "execution_count": 28,
   "id": "b0cbf173",
   "metadata": {},
   "outputs": [
    {
     "name": "stdout",
     "output_type": "stream",
     "text": [
      "\n",
      "\n",
      "\n"
     ]
    }
   ],
   "source": [
    "tokenizers.train_from_iterator(ds, trainer)"
   ]
  },
  {
   "cell_type": "code",
   "execution_count": 29,
   "id": "b9a02ac7",
   "metadata": {},
   "outputs": [
    {
     "data": {
      "text/plain": [
       "['[UNK]', 'e', 'low', 'low', 'e', 'r']"
      ]
     },
     "execution_count": 29,
     "metadata": {},
     "output_type": "execute_result"
    }
   ],
   "source": [
    "tokenizers.encode(\"below lower\").tokens"
   ]
  },
  {
   "cell_type": "code",
   "execution_count": 30,
   "id": "18d1d8c1",
   "metadata": {},
   "outputs": [
    {
     "data": {
      "text/plain": [
       "Tokenizer(version=\"1.0\", truncation=None, padding=None, added_tokens=[{\"id\":0, \"content\":\"[UNK]\", \"single_word\":False, \"lstrip\":False, \"rstrip\":False, \"normalized\":False, \"special\":True}], normalizer=None, pre_tokenizer=Whitespace(), post_processor=None, decoder=None, model=BPE(dropout=None, unk_token=\"[UNK]\", continuing_subword_prefix=None, end_of_word_suffix=None, fuse_unk=False, byte_fallback=False, ignore_merges=False, vocab={\"[UNK]\":0, \"A\":1, \"C\":2, \"D\":3, \"E\":4, \"H\":5, \"L\":6, \"O\":7, \"P\":8, \"R\":9, \"S\":10, \"U\":11, \"W\":12, \"a\":13, \"c\":14, \"d\":15, \"e\":16, \"h\":17, \"l\":18, \"o\":19, \"r\":20, \"s\":21, \"w\":22, \"lo\":23, \"ER\":24, \"PP\":25, \"UPP\":26, \"el\":27, \"ld\":28, \"or\":29, \"low\":30, \"UPPER\":31, \"ello\":32, \"orld\":33}, merges=[(\"l\", \"o\"), (\"E\", \"R\"), (\"P\", \"P\"), (\"U\", \"PP\"), (\"e\", \"l\"), (\"l\", \"d\"), (\"o\", \"r\"), (\"lo\", \"w\"), (\"UPP\", \"ER\"), (\"el\", \"lo\"), (\"or\", \"ld\")]))"
      ]
     },
     "execution_count": 30,
     "metadata": {},
     "output_type": "execute_result"
    }
   ],
   "source": [
    "tokenizers"
   ]
  }
 ],
 "metadata": {
  "kernelspec": {
   "display_name": "llm",
   "language": "python",
   "name": "python3"
  },
  "language_info": {
   "codemirror_mode": {
    "name": "ipython",
    "version": 3
   },
   "file_extension": ".py",
   "mimetype": "text/x-python",
   "name": "python",
   "nbconvert_exporter": "python",
   "pygments_lexer": "ipython3",
   "version": "3.12.8"
  }
 },
 "nbformat": 4,
 "nbformat_minor": 5
}
